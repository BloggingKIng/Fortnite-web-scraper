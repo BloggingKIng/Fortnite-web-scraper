{
 "cells": [
  {
   "cell_type": "code",
   "execution_count": 1,
   "metadata": {},
   "outputs": [],
   "source": [
    "from selenium import webdriver\n",
    "from selenium.webdriver.common.by import By\n",
    "from selenium.webdriver.common.keys import Keys\n",
    "from selenium.webdriver.chrome.service import Service\n",
    "from selenium.webdriver.support.ui import WebDriverWait\n",
    "from selenium.webdriver.support import expected_conditions as EC\n",
    "import time"
   ]
  },
  {
   "cell_type": "code",
   "execution_count": 2,
   "metadata": {},
   "outputs": [],
   "source": [
    "options = webdriver.ChromeOptions()\n",
    "options.add_argument(\"--start-maximized\")\n",
    "driver = webdriver.Chrome(options=options)\n",
    "driver.get(\"https://fortnite.gg/discover#homebar\")"
   ]
  },
  {
   "cell_type": "code",
   "execution_count": 3,
   "metadata": {},
   "outputs": [],
   "source": [
    "homebar_heading = driver.find_element(By.XPATH, \"//h2[@id='homebar']\")"
   ]
  },
  {
   "cell_type": "code",
   "execution_count": 4,
   "metadata": {},
   "outputs": [
    {
     "data": {
      "text/plain": [
       "'HOMEBAR'"
      ]
     },
     "execution_count": 4,
     "metadata": {},
     "output_type": "execute_result"
    }
   ],
   "source": [
    "homebar_heading.text"
   ]
  },
  {
   "cell_type": "code",
   "execution_count": 5,
   "metadata": {},
   "outputs": [],
   "source": [
    "homebar_div = driver.find_element(By.XPATH, \"//h2[@id='homebar']/following::div[1]\")"
   ]
  },
  {
   "cell_type": "code",
   "execution_count": 6,
   "metadata": {},
   "outputs": [
    {
     "data": {
      "text/plain": [
       "'islands'"
      ]
     },
     "execution_count": 6,
     "metadata": {},
     "output_type": "execute_result"
    }
   ],
   "source": [
    "homebar_div.get_attribute(\"class\")"
   ]
  },
  {
   "cell_type": "code",
   "execution_count": 7,
   "metadata": {},
   "outputs": [],
   "source": [
    "islands = homebar_div.find_elements(By.XPATH, \".//a[@class='island']\")"
   ]
  },
  {
   "cell_type": "code",
   "execution_count": 8,
   "metadata": {},
   "outputs": [
    {
     "data": {
      "text/plain": [
       "[<selenium.webdriver.remote.webelement.WebElement (session=\"090c6f592c03cea5df76516739b8ae31\", element=\"f.998CA1E86DE354AC6C8C83E73A8F3943.d.659D4971377E6B82A198799F1BCBD7B7.e.96\")>,\n",
       " <selenium.webdriver.remote.webelement.WebElement (session=\"090c6f592c03cea5df76516739b8ae31\", element=\"f.998CA1E86DE354AC6C8C83E73A8F3943.d.659D4971377E6B82A198799F1BCBD7B7.e.97\")>,\n",
       " <selenium.webdriver.remote.webelement.WebElement (session=\"090c6f592c03cea5df76516739b8ae31\", element=\"f.998CA1E86DE354AC6C8C83E73A8F3943.d.659D4971377E6B82A198799F1BCBD7B7.e.98\")>,\n",
       " <selenium.webdriver.remote.webelement.WebElement (session=\"090c6f592c03cea5df76516739b8ae31\", element=\"f.998CA1E86DE354AC6C8C83E73A8F3943.d.659D4971377E6B82A198799F1BCBD7B7.e.99\")>,\n",
       " <selenium.webdriver.remote.webelement.WebElement (session=\"090c6f592c03cea5df76516739b8ae31\", element=\"f.998CA1E86DE354AC6C8C83E73A8F3943.d.659D4971377E6B82A198799F1BCBD7B7.e.100\")>,\n",
       " <selenium.webdriver.remote.webelement.WebElement (session=\"090c6f592c03cea5df76516739b8ae31\", element=\"f.998CA1E86DE354AC6C8C83E73A8F3943.d.659D4971377E6B82A198799F1BCBD7B7.e.101\")>,\n",
       " <selenium.webdriver.remote.webelement.WebElement (session=\"090c6f592c03cea5df76516739b8ae31\", element=\"f.998CA1E86DE354AC6C8C83E73A8F3943.d.659D4971377E6B82A198799F1BCBD7B7.e.102\")>,\n",
       " <selenium.webdriver.remote.webelement.WebElement (session=\"090c6f592c03cea5df76516739b8ae31\", element=\"f.998CA1E86DE354AC6C8C83E73A8F3943.d.659D4971377E6B82A198799F1BCBD7B7.e.103\")>,\n",
       " <selenium.webdriver.remote.webelement.WebElement (session=\"090c6f592c03cea5df76516739b8ae31\", element=\"f.998CA1E86DE354AC6C8C83E73A8F3943.d.659D4971377E6B82A198799F1BCBD7B7.e.104\")>,\n",
       " <selenium.webdriver.remote.webelement.WebElement (session=\"090c6f592c03cea5df76516739b8ae31\", element=\"f.998CA1E86DE354AC6C8C83E73A8F3943.d.659D4971377E6B82A198799F1BCBD7B7.e.105\")>]"
      ]
     },
     "execution_count": 8,
     "metadata": {},
     "output_type": "execute_result"
    }
   ],
   "source": [
    "islands"
   ]
  },
  {
   "cell_type": "code",
   "execution_count": 9,
   "metadata": {},
   "outputs": [
    {
     "name": "stdout",
     "output_type": "stream",
     "text": [
      "\n",
      "#1\n",
      "BATTLE ROYALE\n",
      "https://fortnite.gg/island?code=set_br_playlists\n",
      "https://cdn2.unrealengine.com/fnbr-31-00-c5s4-discoverplaylisttiles-br-480x270-480x270-90c7006beeb0.jpg\n",
      "\n",
      "\n",
      "#2\n",
      "ZERO BUILD - BATTLE ROYALE\n",
      "https://fortnite.gg/island?code=set_nobuild_playlists\n",
      "https://cdn2.unrealengine.com/en-fnbr-31-00-c5s4-discoverplaylisttiles-zb-640x360-640x360-4e75f80d6ae0.jpg\n",
      "\n",
      "\n",
      "#3\n",
      "RELOAD\n",
      "https://fortnite.gg/island?code=set_blastberry_playlists\n",
      "https://cdn2.unrealengine.com/en-fnbr-30-20-blastberry-discoverytile-480x270-480x270-71e5e5ff15dc.jpg\n",
      "\n",
      "\n",
      "#4\n",
      "RELOAD - ZERO BUILD\n",
      "https://fortnite.gg/island?code=set_blastberry_nobuild_playlists\n",
      "https://cdn2.unrealengine.com/en-fnbr-30-20-blastberry-discoverytile-480x270zb-480x270-208d00194e11.jpg\n",
      "\n",
      "\n",
      "#5\n",
      "🌈 RAINBOW HIDE AND SEEK 🌈\n",
      "https://fortnite.gg/island?code=5991-1334-7948\n",
      "https://cdn-0001.qstv.on.epicgames.com/osTssQRMHiHfrrBdCj/image/landscape_comp_s.jpeg\n",
      "\n",
      "\n",
      "#6\n",
      "BARBER TYCOON\n",
      "https://fortnite.gg/island?code=6980-7830-5270\n",
      "https://cdn-0001.qstv.on.epicgames.com/zJEDcXGoQdcOqxmrrH/image/landscape_comp_s.jpeg\n",
      "\n",
      "\n",
      "#7\n",
      "ONEBLOCK BARK EDITION🐶\n",
      "https://fortnite.gg/island?code=0211-9658-7507\n",
      "https://cdn-0001.qstv.on.epicgames.com/twuDanoLwhTPfNhAuL/image/landscape_comp_s.jpeg\n",
      "\n",
      "\n",
      "#8\n",
      "1V1 BUILD FIGHTS! [4.6.4]\n",
      "https://fortnite.gg/island?code=1832-0431-4852\n",
      "https://cdn-0001.qstv.on.epicgames.com/DvHxvhVqJouxUDkEkx/image/landscape_comp_s.jpeg\n",
      "\n",
      "\n",
      "#9\n",
      "🐐 GO GOATED! ZONE WARS 🌀 *NEW WEAPONS*\n",
      "https://fortnite.gg/island?code=3305-1551-7747\n",
      "https://cdn-0001.qstv.on.epicgames.com/lvHYhdxcwERSIqIEuR/image/landscape_comp_s.jpeg\n",
      "\n",
      "\n",
      "#10\n",
      "BED WARS\n",
      "https://fortnite.gg/island?code=7048-8422-2298\n",
      "https://cdn-0001.qstv.on.epicgames.com/WVMAhubrTBlztJTdcY/image/landscape_comp_s.jpeg\n",
      "\n"
     ]
    }
   ],
   "source": [
    "for island in islands:\n",
    "\n",
    "    island_name = island.find_element(By.XPATH, \".//h3[@class='island-title']\").text\n",
    "    island_link = island.get_attribute(\"href\")\n",
    "    island_img = island.find_element(By.XPATH, \".//img\")\n",
    "    island_img = island_img.get_attribute(\"src\")\n",
    "    homebar_rank = islands.index(island) + 1\n",
    "\n",
    "    print()\n",
    "    print(f\"#{homebar_rank}\")\n",
    "    print(island_name)\n",
    "    print(island_link)\n",
    "    print(island_img)\n",
    "    print()\n",
    "    "
   ]
  },
  {
   "cell_type": "code",
   "execution_count": 10,
   "metadata": {},
   "outputs": [
    {
     "data": {
      "text/plain": [
       "'TRENDING'"
      ]
     },
     "execution_count": 10,
     "metadata": {},
     "output_type": "execute_result"
    }
   ],
   "source": [
    "trending = driver.find_element(By.XPATH, \"//h2[@id='trending']\")\n",
    "trending.text"
   ]
  },
  {
   "cell_type": "code",
   "execution_count": 11,
   "metadata": {},
   "outputs": [],
   "source": [
    "trending_div = driver.find_element(By.XPATH, \"//h2[@id='trending']/following::div[1]\")"
   ]
  },
  {
   "cell_type": "code",
   "execution_count": 12,
   "metadata": {},
   "outputs": [],
   "source": [
    "trending_maps = trending_div.find_elements(By.XPATH, \".//a[@class='island']\")"
   ]
  },
  {
   "cell_type": "code",
   "execution_count": 13,
   "metadata": {},
   "outputs": [
    {
     "data": {
      "text/plain": [
       "[<selenium.webdriver.remote.webelement.WebElement (session=\"090c6f592c03cea5df76516739b8ae31\", element=\"f.998CA1E86DE354AC6C8C83E73A8F3943.d.659D4971377E6B82A198799F1BCBD7B7.e.124\")>,\n",
       " <selenium.webdriver.remote.webelement.WebElement (session=\"090c6f592c03cea5df76516739b8ae31\", element=\"f.998CA1E86DE354AC6C8C83E73A8F3943.d.659D4971377E6B82A198799F1BCBD7B7.e.125\")>,\n",
       " <selenium.webdriver.remote.webelement.WebElement (session=\"090c6f592c03cea5df76516739b8ae31\", element=\"f.998CA1E86DE354AC6C8C83E73A8F3943.d.659D4971377E6B82A198799F1BCBD7B7.e.126\")>,\n",
       " <selenium.webdriver.remote.webelement.WebElement (session=\"090c6f592c03cea5df76516739b8ae31\", element=\"f.998CA1E86DE354AC6C8C83E73A8F3943.d.659D4971377E6B82A198799F1BCBD7B7.e.127\")>,\n",
       " <selenium.webdriver.remote.webelement.WebElement (session=\"090c6f592c03cea5df76516739b8ae31\", element=\"f.998CA1E86DE354AC6C8C83E73A8F3943.d.659D4971377E6B82A198799F1BCBD7B7.e.128\")>,\n",
       " <selenium.webdriver.remote.webelement.WebElement (session=\"090c6f592c03cea5df76516739b8ae31\", element=\"f.998CA1E86DE354AC6C8C83E73A8F3943.d.659D4971377E6B82A198799F1BCBD7B7.e.129\")>,\n",
       " <selenium.webdriver.remote.webelement.WebElement (session=\"090c6f592c03cea5df76516739b8ae31\", element=\"f.998CA1E86DE354AC6C8C83E73A8F3943.d.659D4971377E6B82A198799F1BCBD7B7.e.130\")>,\n",
       " <selenium.webdriver.remote.webelement.WebElement (session=\"090c6f592c03cea5df76516739b8ae31\", element=\"f.998CA1E86DE354AC6C8C83E73A8F3943.d.659D4971377E6B82A198799F1BCBD7B7.e.131\")>,\n",
       " <selenium.webdriver.remote.webelement.WebElement (session=\"090c6f592c03cea5df76516739b8ae31\", element=\"f.998CA1E86DE354AC6C8C83E73A8F3943.d.659D4971377E6B82A198799F1BCBD7B7.e.132\")>,\n",
       " <selenium.webdriver.remote.webelement.WebElement (session=\"090c6f592c03cea5df76516739b8ae31\", element=\"f.998CA1E86DE354AC6C8C83E73A8F3943.d.659D4971377E6B82A198799F1BCBD7B7.e.133\")>,\n",
       " <selenium.webdriver.remote.webelement.WebElement (session=\"090c6f592c03cea5df76516739b8ae31\", element=\"f.998CA1E86DE354AC6C8C83E73A8F3943.d.659D4971377E6B82A198799F1BCBD7B7.e.134\")>,\n",
       " <selenium.webdriver.remote.webelement.WebElement (session=\"090c6f592c03cea5df76516739b8ae31\", element=\"f.998CA1E86DE354AC6C8C83E73A8F3943.d.659D4971377E6B82A198799F1BCBD7B7.e.135\")>,\n",
       " <selenium.webdriver.remote.webelement.WebElement (session=\"090c6f592c03cea5df76516739b8ae31\", element=\"f.998CA1E86DE354AC6C8C83E73A8F3943.d.659D4971377E6B82A198799F1BCBD7B7.e.136\")>,\n",
       " <selenium.webdriver.remote.webelement.WebElement (session=\"090c6f592c03cea5df76516739b8ae31\", element=\"f.998CA1E86DE354AC6C8C83E73A8F3943.d.659D4971377E6B82A198799F1BCBD7B7.e.137\")>,\n",
       " <selenium.webdriver.remote.webelement.WebElement (session=\"090c6f592c03cea5df76516739b8ae31\", element=\"f.998CA1E86DE354AC6C8C83E73A8F3943.d.659D4971377E6B82A198799F1BCBD7B7.e.138\")>,\n",
       " <selenium.webdriver.remote.webelement.WebElement (session=\"090c6f592c03cea5df76516739b8ae31\", element=\"f.998CA1E86DE354AC6C8C83E73A8F3943.d.659D4971377E6B82A198799F1BCBD7B7.e.139\")>,\n",
       " <selenium.webdriver.remote.webelement.WebElement (session=\"090c6f592c03cea5df76516739b8ae31\", element=\"f.998CA1E86DE354AC6C8C83E73A8F3943.d.659D4971377E6B82A198799F1BCBD7B7.e.140\")>,\n",
       " <selenium.webdriver.remote.webelement.WebElement (session=\"090c6f592c03cea5df76516739b8ae31\", element=\"f.998CA1E86DE354AC6C8C83E73A8F3943.d.659D4971377E6B82A198799F1BCBD7B7.e.141\")>,\n",
       " <selenium.webdriver.remote.webelement.WebElement (session=\"090c6f592c03cea5df76516739b8ae31\", element=\"f.998CA1E86DE354AC6C8C83E73A8F3943.d.659D4971377E6B82A198799F1BCBD7B7.e.142\")>,\n",
       " <selenium.webdriver.remote.webelement.WebElement (session=\"090c6f592c03cea5df76516739b8ae31\", element=\"f.998CA1E86DE354AC6C8C83E73A8F3943.d.659D4971377E6B82A198799F1BCBD7B7.e.143\")>]"
      ]
     },
     "execution_count": 13,
     "metadata": {},
     "output_type": "execute_result"
    }
   ],
   "source": [
    "trending_maps"
   ]
  },
  {
   "cell_type": "code",
   "execution_count": 14,
   "metadata": {},
   "outputs": [
    {
     "name": "stdout",
     "output_type": "stream",
     "text": [
      "Following maps are trending\n",
      "\n",
      "#1\n",
      "🦸SUPERHERO HIDE AND SEEK ⭐️ SUMMER!\n",
      "https://fortnite.gg/island?code=5554-8900-4459\n",
      "https://cdn-0001.qstv.on.epicgames.com/hXdozKdfWbIAzHqbiv/image/landscape_comp_s.jpeg\n",
      "\n",
      "\n",
      "#2\n",
      "DEFAULT PARKOUR 425+\n",
      "https://fortnite.gg/island?code=9265-0145-5540\n",
      "https://cdn-0001.qstv.on.epicgames.com/sJnXfVkwTAkgNCISUC/image/landscape_comp_s.jpeg\n",
      "\n",
      "\n",
      "#3\n",
      "COLOR SWITCH : SLAP THE BEAN !\n",
      "https://fortnite.gg/island?code=0116-2324-1430\n",
      "https://cdn-0001.qstv.on.epicgames.com/TgXKijINfJCIagbvby/image/landscape_comp_s.jpeg\n",
      "\n",
      "\n",
      "#4\n",
      "🏆ALL WEAPONS - FFA🏆\n",
      "https://fortnite.gg/island?code=4411-6946-4290\n",
      "https://cdn-0001.qstv.on.epicgames.com/qXQNiCitAFjGrYKshl/image/landscape_comp_s.jpeg\n",
      "\n",
      "\n",
      "#5\n",
      "🎯AMAZING ONE SHOT GUN GAME🔫\n",
      "https://fortnite.gg/island?code=3047-9727-3898\n",
      "https://cdn-0001.qstv.on.epicgames.com/YSGlRHYWHKAnENnQFE/image/landscape_comp_s.jpeg\n",
      "\n",
      "\n",
      "#6\n",
      "1V1 BUILD FIGHTS! ⭐\n",
      "https://fortnite.gg/island?code=5462-1235-9715\n",
      "https://cdn-0001.qstv.on.epicgames.com/DSEKTBHFIgkTNQbdQp/image/landscape_comp_s.jpeg\n",
      "\n",
      "\n",
      "#7\n",
      "250+ LEVEL EASY OBBY PARKOUR 🧽🌈\n",
      "https://fortnite.gg/island?code=2695-3212-6526\n",
      "https://cdn-0001.qstv.on.epicgames.com/gAYPskLqCaOgycxlmq/image/landscape_comp_s.jpeg\n",
      "\n",
      "\n",
      "#8\n",
      "FNAF SUN'S & FRIENDS PIT\n",
      "https://fortnite.gg/island?code=8784-4136-6260\n",
      "https://cdn-0001.qstv.on.epicgames.com/MSzEmSCltUDHphBmHr/image/landscape_comp_s.jpeg\n",
      "\n",
      "\n",
      "#9\n",
      "💻 HACKER TYCOON 2\n",
      "https://fortnite.gg/island?code=9007-3125-1083\n",
      "https://cdn-0001.qstv.on.epicgames.com/ursIRNgtGGYDmqjZtx/image/landscape_comp_s.jpeg\n",
      "\n",
      "\n",
      "#10\n",
      "RED VS BLUE CAPTURE THE FLAG\n",
      "https://fortnite.gg/island?code=2996-1367-1706\n",
      "https://cdn-0001.qstv.on.epicgames.com/jFMBLlYXkGZKavAamf/image/landscape_comp_s.jpeg\n",
      "\n",
      "\n",
      "#11\n",
      "PRO RANKED RED VS BLUE HEROES 🔴🔵\n",
      "https://fortnite.gg/island?code=0258-3511-4665\n",
      "https://cdn-0001.qstv.on.epicgames.com/HbSybPvEVGacPGkzLW/image/landscape_comp_s.jpeg\n",
      "\n",
      "\n",
      "#12\n",
      "❔ FORT WHO ❓ - GUESS WHO THEY ARE\n",
      "https://fortnite.gg/island?code=5794-2200-8636\n",
      "https://cdn-0001.qstv.on.epicgames.com/qYZhaowwnKcXWCUTwn/image/landscape_comp_s.jpeg\n",
      "\n",
      "\n",
      "#13\n",
      "💙PLAYSTATION VS XBOX💚\n",
      "https://fortnite.gg/island?code=8222-6801-8250\n",
      "https://cdn-0001.qstv.on.epicgames.com/XdqQqFoeuazRreABKq/image/landscape_comp_s.jpeg\n",
      "\n",
      "\n",
      "#14\n",
      "FALL GUYS TAG\n",
      "https://fortnite.gg/island?code=6058-3401-6409\n",
      "https://cdn-0001.qstv.on.epicgames.com/gTYDthEuCeWqcAhHZH/image/landscape_comp_s.jpeg\n",
      "\n",
      "\n",
      "#15\n",
      "MINIONS VS GRU\n",
      "https://fortnite.gg/island?code=6843-0681-4855\n",
      "https://cdn-0001.qstv.on.epicgames.com/PPRjQtSUbEnZKhHLNv/image/landscape_comp_s.jpeg\n",
      "\n",
      "\n",
      "#16\n",
      "ULTIMATE 1V1 [2K24]\n",
      "https://fortnite.gg/island?code=6394-7069-2112\n",
      "https://cdn-0001.qstv.on.epicgames.com/FeubtOzqqZhbqqnbos/image/landscape_comp_s.jpeg\n",
      "\n",
      "\n",
      "#17\n",
      "📚BALDI'S BASICS📚\n",
      "https://fortnite.gg/island?code=4540-4646-7617\n",
      "https://cdn-0001.qstv.on.epicgames.com/yErubSijZiIFqObpwI/image/landscape_comp_s.jpeg\n",
      "\n",
      "\n",
      "#18\n",
      "【HORROR】SNOWMAN❄️\n",
      "https://fortnite.gg/island?code=0854-1284-2958\n",
      "https://cdn-0001.qstv.on.epicgames.com/xwELDqqWQeaOOOZCCh/image/landscape_comp_s.jpeg\n",
      "\n",
      "\n",
      "#19\n",
      "1V1 FFA BUILD FIGHTS! 🌟\n",
      "https://fortnite.gg/island?code=0528-5858-1317\n",
      "https://cdn-0001.qstv.on.epicgames.com/zoYTcqkYAGaJkveyZz/image/landscape_comp_s.jpeg\n",
      "\n",
      "\n",
      "#20\n",
      "⭐CUSTOM WEAPONS🎯GUNGAME ONE SHOT\n",
      "https://fortnite.gg/island?code=1642-4995-9955\n",
      "https://cdn-0001.qstv.on.epicgames.com/rKbjuRUzAbXSbdcDqN/image/landscape_comp_s.jpeg\n",
      "\n"
     ]
    }
   ],
   "source": [
    "print('Following maps are trending')\n",
    "\n",
    "for map in trending_maps:\n",
    "    map_name = map.find_element(By.XPATH, \".//h3[@class='island-title']\").text\n",
    "    map_link = map.get_attribute(\"href\")\n",
    "    map_img = map.find_element(By.XPATH, \".//img\")\n",
    "    map_img = map_img.get_attribute(\"src\")\n",
    "    trending_rank = trending_maps.index(map) + 1\n",
    "\n",
    "    print()\n",
    "    print(f\"#{trending_rank}\")\n",
    "    print(map_name)\n",
    "    print(map_link)\n",
    "    print(map_img)\n",
    "    print()"
   ]
  },
  {
   "cell_type": "code",
   "execution_count": 15,
   "metadata": {},
   "outputs": [],
   "source": [
    "def get_homebar(driver):\n",
    "    items = []\n",
    "    driver.get(\"https://fortnite.gg/discover#homebar\")\n",
    "\n",
    "    homebar_heading = driver.find_element(By.XPATH, \"//h2[@id='homebar']\")\n",
    "    homebar_div = driver.find_element(By.XPATH, \"//h2[@id='homebar']/following::div[1]\")\n",
    "    islands = homebar_div.find_elements(By.XPATH, \".//a[@class='island']\")\n",
    "\n",
    "    for island in islands:\n",
    "        island_name = island.find_element(By.XPATH, \".//h3[@class='island-title']\").text\n",
    "        island_link = island.get_attribute(\"href\")\n",
    "        island_img = island.find_element(By.XPATH, \".//img\")\n",
    "        island_img = island_img.get_attribute(\"src\")\n",
    "        homebar_rank = islands.index(island) + 1\n",
    "        items.append((island_name, island_link, island_img, homebar_rank))\n",
    "\n",
    "    return items"
   ]
  },
  {
   "cell_type": "code",
   "execution_count": 16,
   "metadata": {},
   "outputs": [],
   "source": [
    "items = get_homebar(driver)"
   ]
  },
  {
   "cell_type": "code",
   "execution_count": 17,
   "metadata": {},
   "outputs": [
    {
     "data": {
      "text/plain": [
       "[('BATTLE ROYALE',\n",
       "  'https://fortnite.gg/island?code=set_br_playlists',\n",
       "  'https://cdn2.unrealengine.com/fnbr-31-00-c5s4-discoverplaylisttiles-br-480x270-480x270-90c7006beeb0.jpg',\n",
       "  1),\n",
       " ('ZERO BUILD - BATTLE ROYALE',\n",
       "  'https://fortnite.gg/island?code=set_nobuild_playlists',\n",
       "  'https://cdn2.unrealengine.com/en-fnbr-31-00-c5s4-discoverplaylisttiles-zb-640x360-640x360-4e75f80d6ae0.jpg',\n",
       "  2),\n",
       " ('RELOAD',\n",
       "  'https://fortnite.gg/island?code=set_blastberry_playlists',\n",
       "  'https://cdn2.unrealengine.com/en-fnbr-30-20-blastberry-discoverytile-480x270-480x270-71e5e5ff15dc.jpg',\n",
       "  3),\n",
       " ('RELOAD - ZERO BUILD',\n",
       "  'https://fortnite.gg/island?code=set_blastberry_nobuild_playlists',\n",
       "  'https://cdn2.unrealengine.com/en-fnbr-30-20-blastberry-discoverytile-480x270zb-480x270-208d00194e11.jpg',\n",
       "  4),\n",
       " ('🌈 RAINBOW HIDE AND SEEK 🌈',\n",
       "  'https://fortnite.gg/island?code=5991-1334-7948',\n",
       "  'https://cdn-0001.qstv.on.epicgames.com/osTssQRMHiHfrrBdCj/image/landscape_comp_s.jpeg',\n",
       "  5),\n",
       " ('BARBER TYCOON',\n",
       "  'https://fortnite.gg/island?code=6980-7830-5270',\n",
       "  'https://cdn-0001.qstv.on.epicgames.com/zJEDcXGoQdcOqxmrrH/image/landscape_comp_s.jpeg',\n",
       "  6),\n",
       " ('ONEBLOCK BARK EDITION🐶',\n",
       "  'https://fortnite.gg/island?code=0211-9658-7507',\n",
       "  'https://cdn-0001.qstv.on.epicgames.com/twuDanoLwhTPfNhAuL/image/landscape_comp_s.jpeg',\n",
       "  7),\n",
       " ('1V1 BUILD FIGHTS! [4.6.4]',\n",
       "  'https://fortnite.gg/island?code=1832-0431-4852',\n",
       "  'https://cdn-0001.qstv.on.epicgames.com/DvHxvhVqJouxUDkEkx/image/landscape_comp_s.jpeg',\n",
       "  8),\n",
       " ('🐐 GO GOATED! ZONE WARS 🌀 *NEW WEAPONS*',\n",
       "  'https://fortnite.gg/island?code=3305-1551-7747',\n",
       "  'https://cdn-0001.qstv.on.epicgames.com/lvHYhdxcwERSIqIEuR/image/landscape_comp_s.jpeg',\n",
       "  9),\n",
       " ('BED WARS',\n",
       "  'https://fortnite.gg/island?code=7048-8422-2298',\n",
       "  'https://cdn-0001.qstv.on.epicgames.com/WVMAhubrTBlztJTdcY/image/landscape_comp_s.jpeg',\n",
       "  10)]"
      ]
     },
     "execution_count": 17,
     "metadata": {},
     "output_type": "execute_result"
    }
   ],
   "source": [
    "items"
   ]
  },
  {
   "cell_type": "code",
   "execution_count": 18,
   "metadata": {},
   "outputs": [],
   "source": [
    "def get_trending(driver):\n",
    "    items = []\n",
    "    driver.get(\"https://fortnite.gg/discover#trending\")\n",
    "\n",
    "    trending = driver.find_element(By.XPATH, \"//h2[@id='trending']\")\n",
    "    trending_div = driver.find_element(By.XPATH, \"//h2[@id='trending']/following::div[1]\")\n",
    "    trending_maps = trending_div.find_elements(By.XPATH, \".//a[@class='island']\")\n",
    "\n",
    "    for map in trending_maps:\n",
    "        map_name = map.find_element(By.XPATH, \".//h3[@class='island-title']\").text\n",
    "        map_link = map.get_attribute(\"href\")\n",
    "        map_img = map.find_element(By.XPATH, \".//img\")\n",
    "        map_img = map_img.get_attribute(\"src\")\n",
    "        trending_rank = trending_maps.index(map) + 1\n",
    "        items.append((map_name, map_link, map_img, trending_rank))\n",
    "\n",
    "    return items"
   ]
  },
  {
   "cell_type": "code",
   "execution_count": 19,
   "metadata": {},
   "outputs": [
    {
     "data": {
      "text/plain": [
       "[('🦸SUPERHERO HIDE AND SEEK ⭐️ SUMMER!',\n",
       "  'https://fortnite.gg/island?code=5554-8900-4459',\n",
       "  'https://cdn-0001.qstv.on.epicgames.com/hXdozKdfWbIAzHqbiv/image/landscape_comp_s.jpeg',\n",
       "  1),\n",
       " ('DEFAULT PARKOUR 425+',\n",
       "  'https://fortnite.gg/island?code=9265-0145-5540',\n",
       "  'https://cdn-0001.qstv.on.epicgames.com/sJnXfVkwTAkgNCISUC/image/landscape_comp_s.jpeg',\n",
       "  2),\n",
       " ('COLOR SWITCH : SLAP THE BEAN !',\n",
       "  'https://fortnite.gg/island?code=0116-2324-1430',\n",
       "  'https://cdn-0001.qstv.on.epicgames.com/TgXKijINfJCIagbvby/image/landscape_comp_s.jpeg',\n",
       "  3),\n",
       " ('🏆ALL WEAPONS - FFA🏆',\n",
       "  'https://fortnite.gg/island?code=4411-6946-4290',\n",
       "  'https://cdn-0001.qstv.on.epicgames.com/qXQNiCitAFjGrYKshl/image/landscape_comp_s.jpeg',\n",
       "  4),\n",
       " ('🎯AMAZING ONE SHOT GUN GAME🔫',\n",
       "  'https://fortnite.gg/island?code=3047-9727-3898',\n",
       "  'https://cdn-0001.qstv.on.epicgames.com/YSGlRHYWHKAnENnQFE/image/landscape_comp_s.jpeg',\n",
       "  5),\n",
       " ('1V1 BUILD FIGHTS! ⭐',\n",
       "  'https://fortnite.gg/island?code=5462-1235-9715',\n",
       "  'https://cdn-0001.qstv.on.epicgames.com/DSEKTBHFIgkTNQbdQp/image/landscape_comp_s.jpeg',\n",
       "  6),\n",
       " ('250+ LEVEL EASY OBBY PARKOUR 🧽🌈',\n",
       "  'https://fortnite.gg/island?code=2695-3212-6526',\n",
       "  'https://cdn-0001.qstv.on.epicgames.com/gAYPskLqCaOgycxlmq/image/landscape_comp_s.jpeg',\n",
       "  7),\n",
       " (\"FNAF SUN'S & FRIENDS PIT\",\n",
       "  'https://fortnite.gg/island?code=8784-4136-6260',\n",
       "  'https://cdn-0001.qstv.on.epicgames.com/MSzEmSCltUDHphBmHr/image/landscape_comp_s.jpeg',\n",
       "  8),\n",
       " ('💻 HACKER TYCOON 2',\n",
       "  'https://fortnite.gg/island?code=9007-3125-1083',\n",
       "  'https://cdn-0001.qstv.on.epicgames.com/ursIRNgtGGYDmqjZtx/image/landscape_comp_s.jpeg',\n",
       "  9),\n",
       " ('RED VS BLUE CAPTURE THE FLAG',\n",
       "  'https://fortnite.gg/island?code=2996-1367-1706',\n",
       "  'https://cdn-0001.qstv.on.epicgames.com/jFMBLlYXkGZKavAamf/image/landscape_comp_s.jpeg',\n",
       "  10),\n",
       " ('PRO RANKED RED VS BLUE HEROES 🔴🔵',\n",
       "  'https://fortnite.gg/island?code=0258-3511-4665',\n",
       "  'https://cdn-0001.qstv.on.epicgames.com/HbSybPvEVGacPGkzLW/image/landscape_comp_s.jpeg',\n",
       "  11),\n",
       " ('❔ FORT WHO ❓ - GUESS WHO THEY ARE',\n",
       "  'https://fortnite.gg/island?code=5794-2200-8636',\n",
       "  'https://cdn-0001.qstv.on.epicgames.com/qYZhaowwnKcXWCUTwn/image/landscape_comp_s.jpeg',\n",
       "  12),\n",
       " ('💙PLAYSTATION VS XBOX💚',\n",
       "  'https://fortnite.gg/island?code=8222-6801-8250',\n",
       "  'https://cdn-0001.qstv.on.epicgames.com/XdqQqFoeuazRreABKq/image/landscape_comp_s.jpeg',\n",
       "  13),\n",
       " ('FALL GUYS TAG',\n",
       "  'https://fortnite.gg/island?code=6058-3401-6409',\n",
       "  'https://cdn-0001.qstv.on.epicgames.com/gTYDthEuCeWqcAhHZH/image/landscape_comp_s.jpeg',\n",
       "  14),\n",
       " ('MINIONS VS GRU',\n",
       "  'https://fortnite.gg/island?code=6843-0681-4855',\n",
       "  'https://cdn-0001.qstv.on.epicgames.com/PPRjQtSUbEnZKhHLNv/image/landscape_comp_s.jpeg',\n",
       "  15),\n",
       " ('ULTIMATE 1V1 [2K24]',\n",
       "  'https://fortnite.gg/island?code=6394-7069-2112',\n",
       "  'https://cdn-0001.qstv.on.epicgames.com/FeubtOzqqZhbqqnbos/image/landscape_comp_s.jpeg',\n",
       "  16),\n",
       " (\"📚BALDI'S BASICS📚\",\n",
       "  'https://fortnite.gg/island?code=4540-4646-7617',\n",
       "  'https://cdn-0001.qstv.on.epicgames.com/yErubSijZiIFqObpwI/image/landscape_comp_s.jpeg',\n",
       "  17),\n",
       " ('【HORROR】SNOWMAN❄️',\n",
       "  'https://fortnite.gg/island?code=0854-1284-2958',\n",
       "  'https://cdn-0001.qstv.on.epicgames.com/xwELDqqWQeaOOOZCCh/image/landscape_comp_s.jpeg',\n",
       "  18),\n",
       " ('1V1 FFA BUILD FIGHTS! 🌟',\n",
       "  'https://fortnite.gg/island?code=0528-5858-1317',\n",
       "  'https://cdn-0001.qstv.on.epicgames.com/zoYTcqkYAGaJkveyZz/image/landscape_comp_s.jpeg',\n",
       "  19),\n",
       " ('⭐CUSTOM WEAPONS🎯GUNGAME ONE SHOT',\n",
       "  'https://fortnite.gg/island?code=1642-4995-9955',\n",
       "  'https://cdn-0001.qstv.on.epicgames.com/rKbjuRUzAbXSbdcDqN/image/landscape_comp_s.jpeg',\n",
       "  20)]"
      ]
     },
     "execution_count": 19,
     "metadata": {},
     "output_type": "execute_result"
    }
   ],
   "source": [
    "get_trending(driver)"
   ]
  },
  {
   "cell_type": "code",
   "execution_count": null,
   "metadata": {},
   "outputs": [],
   "source": []
  }
 ],
 "metadata": {
  "kernelspec": {
   "display_name": "Fortnite_Scraper-3Caa52GE",
   "language": "python",
   "name": "python3"
  },
  "language_info": {
   "codemirror_mode": {
    "name": "ipython",
    "version": 3
   },
   "file_extension": ".py",
   "mimetype": "text/x-python",
   "name": "python",
   "nbconvert_exporter": "python",
   "pygments_lexer": "ipython3",
   "version": "3.12.2"
  }
 },
 "nbformat": 4,
 "nbformat_minor": 2
}
