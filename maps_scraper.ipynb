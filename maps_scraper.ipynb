{
 "cells": [
  {
   "cell_type": "code",
   "execution_count": 1,
   "metadata": {},
   "outputs": [],
   "source": [
    "from selenium import webdriver\n",
    "from selenium.webdriver.common.by import By\n",
    "from selenium.webdriver.common.keys import Keys\n",
    "from selenium.webdriver.chrome.service import Service\n",
    "from selenium.webdriver.support.ui import WebDriverWait\n",
    "from selenium.webdriver.support import expected_conditions as EC\n",
    "import time"
   ]
  },
  {
   "cell_type": "code",
   "execution_count": 2,
   "metadata": {},
   "outputs": [],
   "source": [
    "options = webdriver.ChromeOptions()\n",
    "options.add_argument(\"--start-maximized\")\n",
    "driver = webdriver.Chrome(options=options)\n",
    "driver.get(\"https://fortnite.gg/discover#homebar\")"
   ]
  },
  {
   "cell_type": "code",
   "execution_count": 3,
   "metadata": {},
   "outputs": [],
   "source": [
    "homebar_heading = driver.find_element(By.XPATH, \"//h2[@id='homebar']\")"
   ]
  },
  {
   "cell_type": "code",
   "execution_count": 4,
   "metadata": {},
   "outputs": [
    {
     "data": {
      "text/plain": [
       "'HOMEBAR'"
      ]
     },
     "execution_count": 4,
     "metadata": {},
     "output_type": "execute_result"
    }
   ],
   "source": [
    "homebar_heading.text"
   ]
  },
  {
   "cell_type": "code",
   "execution_count": 5,
   "metadata": {},
   "outputs": [],
   "source": [
    "homebar_div = driver.find_element(By.XPATH, \"//h2[@id='homebar']/following::div[1]\")"
   ]
  },
  {
   "cell_type": "code",
   "execution_count": 6,
   "metadata": {},
   "outputs": [
    {
     "data": {
      "text/plain": [
       "'islands'"
      ]
     },
     "execution_count": 6,
     "metadata": {},
     "output_type": "execute_result"
    }
   ],
   "source": [
    "homebar_div.get_attribute(\"class\")"
   ]
  },
  {
   "cell_type": "code",
   "execution_count": 7,
   "metadata": {},
   "outputs": [],
   "source": [
    "islands = homebar_div.find_elements(By.XPATH, \".//a[@class='island']\")"
   ]
  },
  {
   "cell_type": "code",
   "execution_count": 8,
   "metadata": {},
   "outputs": [
    {
     "data": {
      "text/plain": [
       "[<selenium.webdriver.remote.webelement.WebElement (session=\"50b86c3eefb62984483ff9a52daba03c\", element=\"f.ADE5C2CC9A4AC61DA03F280A3A1108DC.d.A14A939546FA8B60A5244F93E05881D8.e.102\")>,\n",
       " <selenium.webdriver.remote.webelement.WebElement (session=\"50b86c3eefb62984483ff9a52daba03c\", element=\"f.ADE5C2CC9A4AC61DA03F280A3A1108DC.d.A14A939546FA8B60A5244F93E05881D8.e.103\")>,\n",
       " <selenium.webdriver.remote.webelement.WebElement (session=\"50b86c3eefb62984483ff9a52daba03c\", element=\"f.ADE5C2CC9A4AC61DA03F280A3A1108DC.d.A14A939546FA8B60A5244F93E05881D8.e.104\")>,\n",
       " <selenium.webdriver.remote.webelement.WebElement (session=\"50b86c3eefb62984483ff9a52daba03c\", element=\"f.ADE5C2CC9A4AC61DA03F280A3A1108DC.d.A14A939546FA8B60A5244F93E05881D8.e.105\")>,\n",
       " <selenium.webdriver.remote.webelement.WebElement (session=\"50b86c3eefb62984483ff9a52daba03c\", element=\"f.ADE5C2CC9A4AC61DA03F280A3A1108DC.d.A14A939546FA8B60A5244F93E05881D8.e.106\")>,\n",
       " <selenium.webdriver.remote.webelement.WebElement (session=\"50b86c3eefb62984483ff9a52daba03c\", element=\"f.ADE5C2CC9A4AC61DA03F280A3A1108DC.d.A14A939546FA8B60A5244F93E05881D8.e.107\")>,\n",
       " <selenium.webdriver.remote.webelement.WebElement (session=\"50b86c3eefb62984483ff9a52daba03c\", element=\"f.ADE5C2CC9A4AC61DA03F280A3A1108DC.d.A14A939546FA8B60A5244F93E05881D8.e.108\")>,\n",
       " <selenium.webdriver.remote.webelement.WebElement (session=\"50b86c3eefb62984483ff9a52daba03c\", element=\"f.ADE5C2CC9A4AC61DA03F280A3A1108DC.d.A14A939546FA8B60A5244F93E05881D8.e.109\")>,\n",
       " <selenium.webdriver.remote.webelement.WebElement (session=\"50b86c3eefb62984483ff9a52daba03c\", element=\"f.ADE5C2CC9A4AC61DA03F280A3A1108DC.d.A14A939546FA8B60A5244F93E05881D8.e.110\")>]"
      ]
     },
     "execution_count": 8,
     "metadata": {},
     "output_type": "execute_result"
    }
   ],
   "source": [
    "islands"
   ]
  },
  {
   "cell_type": "code",
   "execution_count": 9,
   "metadata": {},
   "outputs": [
    {
     "name": "stdout",
     "output_type": "stream",
     "text": [
      "\n",
      "#1\n",
      "BATTLE ROYALE\n",
      "https://fortnite.gg/island?code=set_br_playlists\n",
      "https://cdn2.unrealengine.com/fnbr-31-00-c5s4-discoverplaylisttiles-br-480x270-480x270-90c7006beeb0.jpg\n",
      "\n",
      "\n",
      "#2\n",
      "ZERO BUILD - BATTLE ROYALE\n",
      "https://fortnite.gg/island?code=set_nobuild_playlists\n",
      "https://cdn2.unrealengine.com/en-fnbr-31-00-c5s4-discoverplaylisttiles-zb-640x360-640x360-4e75f80d6ae0.jpg\n",
      "\n",
      "\n",
      "#3\n",
      "RELOAD\n",
      "https://fortnite.gg/island?code=set_blastberry_playlists\n",
      "https://cdn2.unrealengine.com/en-fnbr-30-20-blastberry-discoverytile-480x270-480x270-71e5e5ff15dc.jpg\n",
      "\n",
      "\n",
      "#4\n",
      "RELOAD - ZERO BUILD\n",
      "https://fortnite.gg/island?code=set_blastberry_nobuild_playlists\n",
      "https://cdn2.unrealengine.com/en-fnbr-30-20-blastberry-discoverytile-480x270zb-480x270-208d00194e11.jpg\n",
      "\n",
      "\n",
      "#5\n",
      "WATERPARK TYCOON 🏖️\n",
      "https://fortnite.gg/island?code=2434-0289-5598\n",
      "https://cdn-0001.qstv.on.epicgames.com/PBFDmpetanpvJSXtrR/image/landscape_comp_s.jpeg\n",
      "\n",
      "\n",
      "#6\n",
      "MURDER MYSTERY\n",
      "https://fortnite.gg/island?code=5253-8468-3364\n",
      "https://cdn-0001.qstv.on.epicgames.com/wedYflrXHAjBMcWfQA/image/landscape_comp_s.jpeg\n",
      "\n",
      "\n",
      "#7\n",
      "TR🤣LL BED WARS 🛏️\n",
      "https://fortnite.gg/island?code=9783-9810-3294\n",
      "https://cdn-0001.qstv.on.epicgames.com/mwplvXxnGuanQKnGoT/image/landscape_comp_s.jpeg\n",
      "\n",
      "\n",
      "#8\n",
      "PIECE CONTROL 2V2 🎯\n",
      "https://fortnite.gg/island?code=0148-0322-5437\n",
      "https://cdn-0001.qstv.on.epicgames.com/uThbdSARpfJGnAUGzA/image/landscape_comp_s.jpeg\n",
      "\n",
      "\n",
      "#9\n",
      "CRAZY RED VS BLUE 🔴🔵\n",
      "https://fortnite.gg/island?code=2898-7886-8847\n",
      "https://cdn-0001.qstv.on.epicgames.com/eedtlfdlrRubdSUtkm/image/landscape_comp_s.jpeg\n",
      "\n"
     ]
    }
   ],
   "source": [
    "for island in islands:\n",
    "\n",
    "    island_name = island.find_element(By.XPATH, \".//h3[@class='island-title']\").text\n",
    "    island_link = island.get_attribute(\"href\")\n",
    "    island_img = island.find_element(By.XPATH, \".//img\")\n",
    "    island_img = island_img.get_attribute(\"src\")\n",
    "    homebar_rank = islands.index(island) + 1\n",
    "\n",
    "    print()\n",
    "    print(f\"#{homebar_rank}\")\n",
    "    print(island_name)\n",
    "    print(island_link)\n",
    "    print(island_img)\n",
    "    print()\n",
    "    "
   ]
  },
  {
   "cell_type": "code",
   "execution_count": 10,
   "metadata": {},
   "outputs": [
    {
     "data": {
      "text/plain": [
       "'TRENDING'"
      ]
     },
     "execution_count": 10,
     "metadata": {},
     "output_type": "execute_result"
    }
   ],
   "source": [
    "trending = driver.find_element(By.XPATH, \"//h2[@id='trending']\")\n",
    "trending.text"
   ]
  },
  {
   "cell_type": "code",
   "execution_count": 11,
   "metadata": {},
   "outputs": [],
   "source": [
    "trending_div = driver.find_element(By.XPATH, \"//h2[@id='trending']/following::div[1]\")"
   ]
  },
  {
   "cell_type": "code",
   "execution_count": 12,
   "metadata": {},
   "outputs": [],
   "source": [
    "trending_maps = trending_div.find_elements(By.XPATH, \".//a[@class='island']\")"
   ]
  },
  {
   "cell_type": "code",
   "execution_count": 13,
   "metadata": {},
   "outputs": [
    {
     "data": {
      "text/plain": [
       "[<selenium.webdriver.remote.webelement.WebElement (session=\"50b86c3eefb62984483ff9a52daba03c\", element=\"f.ADE5C2CC9A4AC61DA03F280A3A1108DC.d.A14A939546FA8B60A5244F93E05881D8.e.129\")>,\n",
       " <selenium.webdriver.remote.webelement.WebElement (session=\"50b86c3eefb62984483ff9a52daba03c\", element=\"f.ADE5C2CC9A4AC61DA03F280A3A1108DC.d.A14A939546FA8B60A5244F93E05881D8.e.130\")>,\n",
       " <selenium.webdriver.remote.webelement.WebElement (session=\"50b86c3eefb62984483ff9a52daba03c\", element=\"f.ADE5C2CC9A4AC61DA03F280A3A1108DC.d.A14A939546FA8B60A5244F93E05881D8.e.131\")>,\n",
       " <selenium.webdriver.remote.webelement.WebElement (session=\"50b86c3eefb62984483ff9a52daba03c\", element=\"f.ADE5C2CC9A4AC61DA03F280A3A1108DC.d.A14A939546FA8B60A5244F93E05881D8.e.132\")>,\n",
       " <selenium.webdriver.remote.webelement.WebElement (session=\"50b86c3eefb62984483ff9a52daba03c\", element=\"f.ADE5C2CC9A4AC61DA03F280A3A1108DC.d.A14A939546FA8B60A5244F93E05881D8.e.133\")>,\n",
       " <selenium.webdriver.remote.webelement.WebElement (session=\"50b86c3eefb62984483ff9a52daba03c\", element=\"f.ADE5C2CC9A4AC61DA03F280A3A1108DC.d.A14A939546FA8B60A5244F93E05881D8.e.134\")>,\n",
       " <selenium.webdriver.remote.webelement.WebElement (session=\"50b86c3eefb62984483ff9a52daba03c\", element=\"f.ADE5C2CC9A4AC61DA03F280A3A1108DC.d.A14A939546FA8B60A5244F93E05881D8.e.135\")>,\n",
       " <selenium.webdriver.remote.webelement.WebElement (session=\"50b86c3eefb62984483ff9a52daba03c\", element=\"f.ADE5C2CC9A4AC61DA03F280A3A1108DC.d.A14A939546FA8B60A5244F93E05881D8.e.136\")>,\n",
       " <selenium.webdriver.remote.webelement.WebElement (session=\"50b86c3eefb62984483ff9a52daba03c\", element=\"f.ADE5C2CC9A4AC61DA03F280A3A1108DC.d.A14A939546FA8B60A5244F93E05881D8.e.137\")>,\n",
       " <selenium.webdriver.remote.webelement.WebElement (session=\"50b86c3eefb62984483ff9a52daba03c\", element=\"f.ADE5C2CC9A4AC61DA03F280A3A1108DC.d.A14A939546FA8B60A5244F93E05881D8.e.138\")>,\n",
       " <selenium.webdriver.remote.webelement.WebElement (session=\"50b86c3eefb62984483ff9a52daba03c\", element=\"f.ADE5C2CC9A4AC61DA03F280A3A1108DC.d.A14A939546FA8B60A5244F93E05881D8.e.139\")>,\n",
       " <selenium.webdriver.remote.webelement.WebElement (session=\"50b86c3eefb62984483ff9a52daba03c\", element=\"f.ADE5C2CC9A4AC61DA03F280A3A1108DC.d.A14A939546FA8B60A5244F93E05881D8.e.140\")>,\n",
       " <selenium.webdriver.remote.webelement.WebElement (session=\"50b86c3eefb62984483ff9a52daba03c\", element=\"f.ADE5C2CC9A4AC61DA03F280A3A1108DC.d.A14A939546FA8B60A5244F93E05881D8.e.141\")>,\n",
       " <selenium.webdriver.remote.webelement.WebElement (session=\"50b86c3eefb62984483ff9a52daba03c\", element=\"f.ADE5C2CC9A4AC61DA03F280A3A1108DC.d.A14A939546FA8B60A5244F93E05881D8.e.142\")>,\n",
       " <selenium.webdriver.remote.webelement.WebElement (session=\"50b86c3eefb62984483ff9a52daba03c\", element=\"f.ADE5C2CC9A4AC61DA03F280A3A1108DC.d.A14A939546FA8B60A5244F93E05881D8.e.143\")>,\n",
       " <selenium.webdriver.remote.webelement.WebElement (session=\"50b86c3eefb62984483ff9a52daba03c\", element=\"f.ADE5C2CC9A4AC61DA03F280A3A1108DC.d.A14A939546FA8B60A5244F93E05881D8.e.144\")>,\n",
       " <selenium.webdriver.remote.webelement.WebElement (session=\"50b86c3eefb62984483ff9a52daba03c\", element=\"f.ADE5C2CC9A4AC61DA03F280A3A1108DC.d.A14A939546FA8B60A5244F93E05881D8.e.145\")>,\n",
       " <selenium.webdriver.remote.webelement.WebElement (session=\"50b86c3eefb62984483ff9a52daba03c\", element=\"f.ADE5C2CC9A4AC61DA03F280A3A1108DC.d.A14A939546FA8B60A5244F93E05881D8.e.146\")>,\n",
       " <selenium.webdriver.remote.webelement.WebElement (session=\"50b86c3eefb62984483ff9a52daba03c\", element=\"f.ADE5C2CC9A4AC61DA03F280A3A1108DC.d.A14A939546FA8B60A5244F93E05881D8.e.147\")>,\n",
       " <selenium.webdriver.remote.webelement.WebElement (session=\"50b86c3eefb62984483ff9a52daba03c\", element=\"f.ADE5C2CC9A4AC61DA03F280A3A1108DC.d.A14A939546FA8B60A5244F93E05881D8.e.148\")>]"
      ]
     },
     "execution_count": 13,
     "metadata": {},
     "output_type": "execute_result"
    }
   ],
   "source": [
    "trending_maps"
   ]
  },
  {
   "cell_type": "code",
   "execution_count": 14,
   "metadata": {},
   "outputs": [
    {
     "name": "stdout",
     "output_type": "stream",
     "text": [
      "Following maps are trending\n",
      "\n",
      "#1\n",
      "MILITARY OUTPOST TYCOON\n",
      "https://fortnite.gg/island?code=1205-3244-7715\n",
      "https://cdn-0001.qstv.on.epicgames.com/gRYRqEeYAVYGwZbtkm/image/landscape_comp_s.jpeg\n",
      "\n",
      "\n",
      "#2\n",
      "ICE VS LAVA : WAR🔵🟠\n",
      "https://fortnite.gg/island?code=1998-7153-6852\n",
      "https://cdn-0001.qstv.on.epicgames.com/hxilbNGUnLpnponscJ/image/landscape_comp_s.jpeg\n",
      "\n",
      "\n",
      "#3\n",
      "250+ LEVEL EASY OBBY PARKOUR 🧽🌈\n",
      "https://fortnite.gg/island?code=2695-3212-6526\n",
      "https://cdn-0001.qstv.on.epicgames.com/gAYPskLqCaOgycxlmq/image/landscape_comp_s.jpeg\n",
      "\n",
      "\n",
      "#4\n",
      "🎯AMAZING ONE SHOT GUN GAME🔫\n",
      "https://fortnite.gg/island?code=3047-9727-3898\n",
      "https://cdn-0001.qstv.on.epicgames.com/YSGlRHYWHKAnENnQFE/image/landscape_comp_s.jpeg\n",
      "\n",
      "\n",
      "#5\n",
      "💻 HACKER TYCOON 2\n",
      "https://fortnite.gg/island?code=9007-3125-1083\n",
      "https://cdn-0001.qstv.on.epicgames.com/ursIRNgtGGYDmqjZtx/image/landscape_comp_s.jpeg\n",
      "\n",
      "\n",
      "#6\n",
      "【HORROR】SNOWMAN❄️\n",
      "https://fortnite.gg/island?code=0854-1284-2958\n",
      "https://cdn-0001.qstv.on.epicgames.com/xwELDqqWQeaOOOZCCh/image/landscape_comp_s.jpeg\n",
      "\n",
      "\n",
      "#7\n",
      "THE TREELESS MAP\n",
      "https://fortnite.gg/island?code=8684-4685-3685\n",
      "https://cdn-0001.qstv.on.epicgames.com/OgknhybQvisLTJFjOc/image/landscape_comp_s.jpeg\n",
      "\n",
      "\n",
      "#8\n",
      "🍔RESTAURANT TYCOON🍕\n",
      "https://fortnite.gg/island?code=1007-1864-7161\n",
      "https://cdn-0001.qstv.on.epicgames.com/xnZNVdsmgyGyabqIzP/image/landscape_comp_s.jpeg\n",
      "\n",
      "\n",
      "#9\n",
      "STRANGER 💯 RED VS BLUE 🥶 SUPER POWER\n",
      "https://fortnite.gg/island?code=0003-4463-9570\n",
      "https://cdn-0001.qstv.on.epicgames.com/YkrrplLhuJPgcehuIC/image/landscape_comp_s.jpeg\n",
      "\n",
      "\n",
      "#10\n",
      "FALL GUYS PARKOUR 100+ LEVELS\n",
      "https://fortnite.gg/island?code=7342-6321-4039\n",
      "https://cdn-0001.qstv.on.epicgames.com/LWHrErMRTOmWMUXsMm/image/landscape_comp_s.jpeg\n",
      "\n",
      "\n",
      "#11\n",
      "DEFAULT PARKOUR 425+\n",
      "https://fortnite.gg/island?code=9265-0145-5540\n",
      "https://cdn-0001.qstv.on.epicgames.com/sJnXfVkwTAkgNCISUC/image/landscape_comp_s.jpeg\n",
      "\n",
      "\n",
      "#12\n",
      "FALL GUYS TAG\n",
      "https://fortnite.gg/island?code=6058-3401-6409\n",
      "https://cdn-0001.qstv.on.epicgames.com/gTYDthEuCeWqcAhHZH/image/landscape_comp_s.jpeg\n",
      "\n",
      "\n",
      "#13\n",
      "DOOMSDAY - UEFN LIVE EVENT\n",
      "https://fortnite.gg/island?code=9114-5650-4448\n",
      "https://cdn-0001.qstv.on.epicgames.com/YbjXbDeWIpPMPBNssh/image/landscape_comp_s.jpeg\n",
      "\n",
      "\n",
      "#14\n",
      "🦸SUPERHERO HIDE AND SEEK ⭐️ SUMMER!\n",
      "https://fortnite.gg/island?code=5554-8900-4459\n",
      "https://cdn-0001.qstv.on.epicgames.com/hXdozKdfWbIAzHqbiv/image/landscape_comp_s.jpeg\n",
      "\n",
      "\n",
      "#15\n",
      "COLOR SWITCH : SLAP THE BEAN !\n",
      "https://fortnite.gg/island?code=0116-2324-1430\n",
      "https://cdn-0001.qstv.on.epicgames.com/TgXKijINfJCIagbvby/image/landscape_comp_s.jpeg\n",
      "\n",
      "\n",
      "#16\n",
      "ONLYUP FALL GUYS 🌄\n",
      "https://fortnite.gg/island?code=5511-4091-7393\n",
      "https://cdn-0001.qstv.on.epicgames.com/JMFIveRRvvoahYAgIG/image/landscape_comp_s.jpeg\n",
      "\n",
      "\n",
      "#17\n",
      "🏆ALL WEAPONS - FFA🏆\n",
      "https://fortnite.gg/island?code=4411-6946-4290\n",
      "https://cdn-0001.qstv.on.epicgames.com/qXQNiCitAFjGrYKshl/image/landscape_comp_s.jpeg\n",
      "\n",
      "\n",
      "#18\n",
      "FNAF SUN'S & FRIENDS PIT\n",
      "https://fortnite.gg/island?code=8784-4136-6260\n",
      "https://cdn-0001.qstv.on.epicgames.com/MSzEmSCltUDHphBmHr/image/landscape_comp_s.jpeg\n",
      "\n",
      "\n",
      "#19\n",
      "TILTED TOWERS TAG / おにごっこ\n",
      "https://fortnite.gg/island?code=7678-1836-0889\n",
      "https://cdn-0001.qstv.on.epicgames.com/OpAdUrbDaKUlSAaslN/image/landscape_comp_s.jpeg\n",
      "\n",
      "\n",
      "#20\n",
      "TAG / 鬼ごっこ\n",
      "https://fortnite.gg/island?code=2314-5116-0715\n",
      "https://cdn-0001.qstv.on.epicgames.com/evQawfGkVjyjSfvDkY/image/landscape_comp_s.jpeg\n",
      "\n"
     ]
    }
   ],
   "source": [
    "print('Following maps are trending')\n",
    "\n",
    "for map in trending_maps:\n",
    "    map_name = map.find_element(By.XPATH, \".//h3[@class='island-title']\").text\n",
    "    map_link = map.get_attribute(\"href\")\n",
    "    map_img = map.find_element(By.XPATH, \".//img\")\n",
    "    map_img = map_img.get_attribute(\"src\")\n",
    "    trending_rank = trending_maps.index(map) + 1\n",
    "\n",
    "    print()\n",
    "    print(f\"#{trending_rank}\")\n",
    "    print(map_name)\n",
    "    print(map_link)\n",
    "    print(map_img)\n",
    "    print()"
   ]
  },
  {
   "cell_type": "code",
   "execution_count": 16,
   "metadata": {},
   "outputs": [],
   "source": [
    "def get_homebar(driver):\n",
    "    items = []\n",
    "    driver.get(\"https://fortnite.gg/discover#homebar\")\n",
    "\n",
    "    homebar_heading = driver.find_element(By.XPATH, \"//h2[@id='homebar']\")\n",
    "    homebar_div = driver.find_element(By.XPATH, \"//h2[@id='homebar']/following::div[1]\")\n",
    "    islands = homebar_div.find_elements(By.XPATH, \".//a[@class='island']\")\n",
    "\n",
    "    for island in islands:\n",
    "        island_name = island.find_element(By.XPATH, \".//h3[@class='island-title']\").text\n",
    "        island_link = island.get_attribute(\"href\")\n",
    "        island_img = island.find_element(By.XPATH, \".//img\")\n",
    "        island_img = island_img.get_attribute(\"src\")\n",
    "        homebar_rank = islands.index(island) + 1\n",
    "        items.append((island_name, island_link, island_img, homebar_rank))\n",
    "\n",
    "    return items"
   ]
  },
  {
   "cell_type": "code",
   "execution_count": 17,
   "metadata": {},
   "outputs": [],
   "source": [
    "items = get_homebar(driver)"
   ]
  },
  {
   "cell_type": "code",
   "execution_count": 18,
   "metadata": {},
   "outputs": [
    {
     "data": {
      "text/plain": [
       "[('BATTLE ROYALE',\n",
       "  'https://fortnite.gg/island?code=set_br_playlists',\n",
       "  'https://cdn2.unrealengine.com/fnbr-31-00-c5s4-discoverplaylisttiles-br-480x270-480x270-90c7006beeb0.jpg',\n",
       "  1),\n",
       " ('ZERO BUILD - BATTLE ROYALE',\n",
       "  'https://fortnite.gg/island?code=set_nobuild_playlists',\n",
       "  'https://cdn2.unrealengine.com/en-fnbr-31-00-c5s4-discoverplaylisttiles-zb-640x360-640x360-4e75f80d6ae0.jpg',\n",
       "  2),\n",
       " ('RELOAD',\n",
       "  'https://fortnite.gg/island?code=set_blastberry_playlists',\n",
       "  'https://cdn2.unrealengine.com/en-fnbr-30-20-blastberry-discoverytile-480x270-480x270-71e5e5ff15dc.jpg',\n",
       "  3),\n",
       " ('RELOAD - ZERO BUILD',\n",
       "  'https://fortnite.gg/island?code=set_blastberry_nobuild_playlists',\n",
       "  'https://cdn2.unrealengine.com/en-fnbr-30-20-blastberry-discoverytile-480x270zb-480x270-208d00194e11.jpg',\n",
       "  4),\n",
       " ('WATERPARK TYCOON 🏖️',\n",
       "  'https://fortnite.gg/island?code=2434-0289-5598',\n",
       "  'https://cdn-0001.qstv.on.epicgames.com/PBFDmpetanpvJSXtrR/image/landscape_comp_s.jpeg',\n",
       "  5),\n",
       " ('MURDER MYSTERY',\n",
       "  'https://fortnite.gg/island?code=5253-8468-3364',\n",
       "  'https://cdn-0001.qstv.on.epicgames.com/wedYflrXHAjBMcWfQA/image/landscape_comp_s.jpeg',\n",
       "  6),\n",
       " ('TR🤣LL BED WARS 🛏️',\n",
       "  'https://fortnite.gg/island?code=9783-9810-3294',\n",
       "  'https://cdn-0001.qstv.on.epicgames.com/mwplvXxnGuanQKnGoT/image/landscape_comp_s.jpeg',\n",
       "  7),\n",
       " ('PIECE CONTROL 2V2 🎯',\n",
       "  'https://fortnite.gg/island?code=0148-0322-5437',\n",
       "  'https://cdn-0001.qstv.on.epicgames.com/uThbdSARpfJGnAUGzA/image/landscape_comp_s.jpeg',\n",
       "  8),\n",
       " ('CRAZY RED VS BLUE 🔴🔵',\n",
       "  'https://fortnite.gg/island?code=2898-7886-8847',\n",
       "  'https://cdn-0001.qstv.on.epicgames.com/eedtlfdlrRubdSUtkm/image/landscape_comp_s.jpeg',\n",
       "  9)]"
      ]
     },
     "execution_count": 18,
     "metadata": {},
     "output_type": "execute_result"
    }
   ],
   "source": [
    "items"
   ]
  },
  {
   "cell_type": "code",
   "execution_count": 19,
   "metadata": {},
   "outputs": [],
   "source": [
    "def get_trending(driver):\n",
    "    items = []\n",
    "    driver.get(\"https://fortnite.gg/discover#trending\")\n",
    "\n",
    "    trending = driver.find_element(By.XPATH, \"//h2[@id='trending']\")\n",
    "    trending_div = driver.find_element(By.XPATH, \"//h2[@id='trending']/following::div[1]\")\n",
    "    trending_maps = trending_div.find_elements(By.XPATH, \".//a[@class='island']\")\n",
    "\n",
    "    for map in trending_maps:\n",
    "        map_name = map.find_element(By.XPATH, \".//h3[@class='island-title']\").text\n",
    "        map_link = map.get_attribute(\"href\")\n",
    "        map_img = map.find_element(By.XPATH, \".//img\")\n",
    "        map_img = map_img.get_attribute(\"src\")\n",
    "        trending_rank = trending_maps.index(map) + 1\n",
    "        items.append((map_name, map_link, map_img, trending_rank))\n",
    "\n",
    "    return items"
   ]
  },
  {
   "cell_type": "code",
   "execution_count": 20,
   "metadata": {},
   "outputs": [
    {
     "data": {
      "text/plain": [
       "[('MILITARY OUTPOST TYCOON',\n",
       "  'https://fortnite.gg/island?code=1205-3244-7715',\n",
       "  'https://cdn-0001.qstv.on.epicgames.com/gRYRqEeYAVYGwZbtkm/image/landscape_comp_s.jpeg',\n",
       "  1),\n",
       " ('ICE VS LAVA : WAR🔵🟠',\n",
       "  'https://fortnite.gg/island?code=1998-7153-6852',\n",
       "  'https://cdn-0001.qstv.on.epicgames.com/hxilbNGUnLpnponscJ/image/landscape_comp_s.jpeg',\n",
       "  2),\n",
       " ('250+ LEVEL EASY OBBY PARKOUR 🧽🌈',\n",
       "  'https://fortnite.gg/island?code=2695-3212-6526',\n",
       "  'https://cdn-0001.qstv.on.epicgames.com/gAYPskLqCaOgycxlmq/image/landscape_comp_s.jpeg',\n",
       "  3),\n",
       " ('🎯AMAZING ONE SHOT GUN GAME🔫',\n",
       "  'https://fortnite.gg/island?code=3047-9727-3898',\n",
       "  'https://cdn-0001.qstv.on.epicgames.com/YSGlRHYWHKAnENnQFE/image/landscape_comp_s.jpeg',\n",
       "  4),\n",
       " ('💻 HACKER TYCOON 2',\n",
       "  'https://fortnite.gg/island?code=9007-3125-1083',\n",
       "  'https://cdn-0001.qstv.on.epicgames.com/ursIRNgtGGYDmqjZtx/image/landscape_comp_s.jpeg',\n",
       "  5),\n",
       " ('【HORROR】SNOWMAN❄️',\n",
       "  'https://fortnite.gg/island?code=0854-1284-2958',\n",
       "  'https://cdn-0001.qstv.on.epicgames.com/xwELDqqWQeaOOOZCCh/image/landscape_comp_s.jpeg',\n",
       "  6),\n",
       " ('THE TREELESS MAP',\n",
       "  'https://fortnite.gg/island?code=8684-4685-3685',\n",
       "  'https://cdn-0001.qstv.on.epicgames.com/OgknhybQvisLTJFjOc/image/landscape_comp_s.jpeg',\n",
       "  7),\n",
       " ('🍔RESTAURANT TYCOON🍕',\n",
       "  'https://fortnite.gg/island?code=1007-1864-7161',\n",
       "  'https://cdn-0001.qstv.on.epicgames.com/xnZNVdsmgyGyabqIzP/image/landscape_comp_s.jpeg',\n",
       "  8),\n",
       " ('STRANGER 💯 RED VS BLUE 🥶 SUPER POWER',\n",
       "  'https://fortnite.gg/island?code=0003-4463-9570',\n",
       "  'https://cdn-0001.qstv.on.epicgames.com/YkrrplLhuJPgcehuIC/image/landscape_comp_s.jpeg',\n",
       "  9),\n",
       " ('FALL GUYS PARKOUR 100+ LEVELS',\n",
       "  'https://fortnite.gg/island?code=7342-6321-4039',\n",
       "  'https://cdn-0001.qstv.on.epicgames.com/LWHrErMRTOmWMUXsMm/image/landscape_comp_s.jpeg',\n",
       "  10),\n",
       " ('DEFAULT PARKOUR 425+',\n",
       "  'https://fortnite.gg/island?code=9265-0145-5540',\n",
       "  'https://cdn-0001.qstv.on.epicgames.com/sJnXfVkwTAkgNCISUC/image/landscape_comp_s.jpeg',\n",
       "  11),\n",
       " ('FALL GUYS TAG',\n",
       "  'https://fortnite.gg/island?code=6058-3401-6409',\n",
       "  'https://cdn-0001.qstv.on.epicgames.com/gTYDthEuCeWqcAhHZH/image/landscape_comp_s.jpeg',\n",
       "  12),\n",
       " ('DOOMSDAY - UEFN LIVE EVENT',\n",
       "  'https://fortnite.gg/island?code=9114-5650-4448',\n",
       "  'https://cdn-0001.qstv.on.epicgames.com/YbjXbDeWIpPMPBNssh/image/landscape_comp_s.jpeg',\n",
       "  13),\n",
       " ('🦸SUPERHERO HIDE AND SEEK ⭐️ SUMMER!',\n",
       "  'https://fortnite.gg/island?code=5554-8900-4459',\n",
       "  'https://cdn-0001.qstv.on.epicgames.com/hXdozKdfWbIAzHqbiv/image/landscape_comp_s.jpeg',\n",
       "  14),\n",
       " ('COLOR SWITCH : SLAP THE BEAN !',\n",
       "  'https://fortnite.gg/island?code=0116-2324-1430',\n",
       "  'https://cdn-0001.qstv.on.epicgames.com/TgXKijINfJCIagbvby/image/landscape_comp_s.jpeg',\n",
       "  15),\n",
       " ('ONLYUP FALL GUYS 🌄',\n",
       "  'https://fortnite.gg/island?code=5511-4091-7393',\n",
       "  'https://cdn-0001.qstv.on.epicgames.com/JMFIveRRvvoahYAgIG/image/landscape_comp_s.jpeg',\n",
       "  16),\n",
       " ('🏆ALL WEAPONS - FFA🏆',\n",
       "  'https://fortnite.gg/island?code=4411-6946-4290',\n",
       "  'https://cdn-0001.qstv.on.epicgames.com/qXQNiCitAFjGrYKshl/image/landscape_comp_s.jpeg',\n",
       "  17),\n",
       " (\"FNAF SUN'S & FRIENDS PIT\",\n",
       "  'https://fortnite.gg/island?code=8784-4136-6260',\n",
       "  'https://cdn-0001.qstv.on.epicgames.com/MSzEmSCltUDHphBmHr/image/landscape_comp_s.jpeg',\n",
       "  18),\n",
       " ('TILTED TOWERS TAG / おにごっこ',\n",
       "  'https://fortnite.gg/island?code=7678-1836-0889',\n",
       "  'https://cdn-0001.qstv.on.epicgames.com/OpAdUrbDaKUlSAaslN/image/landscape_comp_s.jpeg',\n",
       "  19),\n",
       " ('TAG / 鬼ごっこ',\n",
       "  'https://fortnite.gg/island?code=2314-5116-0715',\n",
       "  'https://cdn-0001.qstv.on.epicgames.com/evQawfGkVjyjSfvDkY/image/landscape_comp_s.jpeg',\n",
       "  20)]"
      ]
     },
     "execution_count": 20,
     "metadata": {},
     "output_type": "execute_result"
    }
   ],
   "source": [
    "get_trending(driver)"
   ]
  },
  {
   "cell_type": "code",
   "execution_count": null,
   "metadata": {},
   "outputs": [],
   "source": []
  }
 ],
 "metadata": {
  "kernelspec": {
   "display_name": "Fortnite_Scraper-3Caa52GE",
   "language": "python",
   "name": "python3"
  },
  "language_info": {
   "codemirror_mode": {
    "name": "ipython",
    "version": 3
   },
   "file_extension": ".py",
   "mimetype": "text/x-python",
   "name": "python",
   "nbconvert_exporter": "python",
   "pygments_lexer": "ipython3",
   "version": "3.12.2"
  }
 },
 "nbformat": 4,
 "nbformat_minor": 2
}
