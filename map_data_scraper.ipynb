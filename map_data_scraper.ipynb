{
 "cells": [
  {
   "cell_type": "code",
   "execution_count": 41,
   "metadata": {},
   "outputs": [],
   "source": [
    "from selenium import webdriver\n",
    "from selenium.webdriver.common.by import By\n",
    "from selenium.webdriver.common.keys import Keys\n",
    "from selenium.webdriver.chrome.service import Service\n",
    "from selenium.webdriver.support.ui import WebDriverWait\n",
    "from selenium.webdriver.support import expected_conditions as EC\n",
    "import undetected_chromedriver as uc\n",
    "import requests\n",
    "import time\n",
    "import json\n",
    "import os"
   ]
  },
  {
   "cell_type": "code",
   "execution_count": 42,
   "metadata": {},
   "outputs": [],
   "source": [
    "def setup_driver():\n",
    "    options = webdriver.ChromeOptions()\n",
    "    service = Service(executable_path=os.getcwd() + \"/chromedriver.exe\")\n",
    "    options.add_argument(\"--start-maximized\")\n",
    "    options.add_argument(\"--disable-notifications\")\n",
    "    options.add_argument(\"--disable-blink-features=AutomationControlled\") \n",
    "    options.add_argument(\"--user-agent=Mozilla/5.0 (Windows NT 10.0; Win64; x64) AppleWebKit/537.36 (KHTML, like Gecko) Chrome/93.0.4577.63 Safari/537.36\")\n",
    "    options.add_argument( '--disable-blink-features=AutomationControlled' )\n",
    "    driver = uc.Chrome(options=options, service=service)\n",
    "    \n",
    "    return driver\n"
   ]
  },
  {
   "cell_type": "code",
   "execution_count": 43,
   "metadata": {},
   "outputs": [],
   "source": [
    "driver = setup_driver()\n",
    "driver.get(\"https://fortnite.gg/island?code=set_br_playlists\")"
   ]
  },
  {
   "cell_type": "code",
   "execution_count": 31,
   "metadata": {},
   "outputs": [],
   "source": [
    "map_details = driver.find_element(By.XPATH, \"//div[@class='island-detail']\")"
   ]
  },
  {
   "cell_type": "code",
   "execution_count": 32,
   "metadata": {},
   "outputs": [
    {
     "name": "stdout",
     "output_type": "stream",
     "text": [
      "EPIC\n"
     ]
    }
   ],
   "source": [
    "map_creator = map_details.find_element(By.XPATH, \".//a\")\n",
    "map_creator = map_creator.text\n",
    "print(map_creator.upper())"
   ]
  },
  {
   "cell_type": "code",
   "execution_count": 33,
   "metadata": {},
   "outputs": [],
   "source": [
    "stats = driver.find_element(By.XPATH, \"//div[@class='chart-stats-title']\")\n",
    "stats = stats.text"
   ]
  },
  {
   "cell_type": "code",
   "execution_count": 34,
   "metadata": {},
   "outputs": [
    {
     "name": "stdout",
     "output_type": "stream",
     "text": [
      "444,976 #1\n"
     ]
    }
   ],
   "source": [
    "print(stats)"
   ]
  },
  {
   "cell_type": "code",
   "execution_count": 35,
   "metadata": {},
   "outputs": [
    {
     "name": "stdout",
     "output_type": "stream",
     "text": [
      "444,976\n",
      "#1\n"
     ]
    }
   ],
   "source": [
    "current_players, ranking = stats.split(\" \")\n",
    "\n",
    "print(current_players)\n",
    "print(ranking)\n"
   ]
  },
  {
   "cell_type": "code",
   "execution_count": 36,
   "metadata": {},
   "outputs": [],
   "source": [
    "categories = driver.find_elements(By.XPATH, \"//div[contains(@class, 'vis-label')]\")"
   ]
  },
  {
   "cell_type": "code",
   "execution_count": 37,
   "metadata": {},
   "outputs": [
    {
     "data": {
      "text/plain": [
       "[<undetected_chromedriver.webelement.WebElement (session=\"e73bdfcd29324a96008317bbc02fe960\", element=\"f.F496E32C92F2840F55020C19DCB98FE6.d.293547DABD377118485FB03F6A223EEF.e.41\")>,\n",
       " <undetected_chromedriver.webelement.WebElement (session=\"e73bdfcd29324a96008317bbc02fe960\", element=\"f.F496E32C92F2840F55020C19DCB98FE6.d.293547DABD377118485FB03F6A223EEF.e.42\")>,\n",
       " <undetected_chromedriver.webelement.WebElement (session=\"e73bdfcd29324a96008317bbc02fe960\", element=\"f.F496E32C92F2840F55020C19DCB98FE6.d.293547DABD377118485FB03F6A223EEF.e.43\")>,\n",
       " <undetected_chromedriver.webelement.WebElement (session=\"e73bdfcd29324a96008317bbc02fe960\", element=\"f.F496E32C92F2840F55020C19DCB98FE6.d.293547DABD377118485FB03F6A223EEF.e.44\")>,\n",
       " <undetected_chromedriver.webelement.WebElement (session=\"e73bdfcd29324a96008317bbc02fe960\", element=\"f.F496E32C92F2840F55020C19DCB98FE6.d.293547DABD377118485FB03F6A223EEF.e.45\")>,\n",
       " <undetected_chromedriver.webelement.WebElement (session=\"e73bdfcd29324a96008317bbc02fe960\", element=\"f.F496E32C92F2840F55020C19DCB98FE6.d.293547DABD377118485FB03F6A223EEF.e.46\")>,\n",
       " <undetected_chromedriver.webelement.WebElement (session=\"e73bdfcd29324a96008317bbc02fe960\", element=\"f.F496E32C92F2840F55020C19DCB98FE6.d.293547DABD377118485FB03F6A223EEF.e.47\")>,\n",
       " <undetected_chromedriver.webelement.WebElement (session=\"e73bdfcd29324a96008317bbc02fe960\", element=\"f.F496E32C92F2840F55020C19DCB98FE6.d.293547DABD377118485FB03F6A223EEF.e.48\")>,\n",
       " <undetected_chromedriver.webelement.WebElement (session=\"e73bdfcd29324a96008317bbc02fe960\", element=\"f.F496E32C92F2840F55020C19DCB98FE6.d.293547DABD377118485FB03F6A223EEF.e.49\")>,\n",
       " <undetected_chromedriver.webelement.WebElement (session=\"e73bdfcd29324a96008317bbc02fe960\", element=\"f.F496E32C92F2840F55020C19DCB98FE6.d.293547DABD377118485FB03F6A223EEF.e.50\")>]"
      ]
     },
     "execution_count": 37,
     "metadata": {},
     "output_type": "execute_result"
    }
   ],
   "source": [
    "categories"
   ]
  },
  {
   "cell_type": "code",
   "execution_count": 38,
   "metadata": {},
   "outputs": [
    {
     "name": "stdout",
     "output_type": "stream",
     "text": [
      "Discover\n",
      "#1 By Epic\n",
      "#4 Homebar\n",
      "Up and Coming\n",
      "Recently Played\n",
      "ByEpicNoBigBattle6Col\n",
      "QACuratedList\n",
      "QARanked\n",
      "Browse\n",
      "Discover\n",
      "#1 By Epic\n",
      "#4 Homebar\n",
      "Up and Coming\n",
      "Recently Played\n",
      "ByEpicNoBigBattle6Col\n",
      "QACuratedList\n",
      "QARanked\n",
      "Browse\n"
     ]
    }
   ],
   "source": [
    "for category in categories:\n",
    "    print(category.text)"
   ]
  },
  {
   "cell_type": "code",
   "execution_count": 45,
   "metadata": {},
   "outputs": [],
   "source": [
    "all_btn = driver.find_element(By.XPATH, \"//div[@data-range='all']\")\n",
    "all_btn.click()"
   ]
  },
  {
   "cell_type": "code",
   "execution_count": 48,
   "metadata": {},
   "outputs": [],
   "source": [
    "earnings = driver.find_elements(By.XPATH, \"//td[@data-sort-method='none']\")[-1].text"
   ]
  },
  {
   "cell_type": "code",
   "execution_count": 49,
   "metadata": {},
   "outputs": [
    {
     "name": "stdout",
     "output_type": "stream",
     "text": [
      "$71.5M  -  $268.2M\n"
     ]
    }
   ],
   "source": [
    "print(earnings)"
   ]
  },
  {
   "cell_type": "code",
   "execution_count": 64,
   "metadata": {},
   "outputs": [
    {
     "name": "stdout",
     "output_type": "stream",
     "text": [
      "RELEASE DATE: Jun 30, 2022\n"
     ]
    }
   ],
   "source": [
    "release_date = driver.find_element(By.XPATH, \"//div[@class='island-table']\")\n",
    "release_date = release_date.find_element(By.XPATH, \".//table\")\n",
    "release_date = release_date.find_element(By.XPATH, \".//tr\")\n",
    "print(release_date.text)\n",
    "release_date = release_date.find_elements(By.XPATH, \".//td\")[-1].text"
   ]
  },
  {
   "cell_type": "code",
   "execution_count": 56,
   "metadata": {},
   "outputs": [
    {
     "name": "stdout",
     "output_type": "stream",
     "text": [
      "Jun 30, 2022\n"
     ]
    }
   ],
   "source": [
    "print(release_date)"
   ]
  },
  {
   "cell_type": "code",
   "execution_count": 65,
   "metadata": {},
   "outputs": [
    {
     "name": "stdout",
     "output_type": "stream",
     "text": [
      "LAST UPDATE: Jun 30, 2022\n"
     ]
    }
   ],
   "source": [
    "last_updated = driver.find_element(By.XPATH, \"//div[@class='island-table']\").find_element(By.XPATH, \".//table\")\n",
    "last_updated = last_updated.find_elements(By.XPATH, \".//tr\")[-1]\n",
    "print(last_updated.text)\n",
    "last_updated = last_updated.find_elements(By.XPATH, \".//td\")[-1].text"
   ]
  },
  {
   "cell_type": "code",
   "execution_count": 62,
   "metadata": {},
   "outputs": [
    {
     "data": {
      "text/plain": [
       "'Jun 30, 2022'"
      ]
     },
     "execution_count": 62,
     "metadata": {},
     "output_type": "execute_result"
    }
   ],
   "source": [
    "last_updated"
   ]
  },
  {
   "cell_type": "code",
   "execution_count": null,
   "metadata": {},
   "outputs": [],
   "source": []
  }
 ],
 "metadata": {
  "kernelspec": {
   "display_name": "Fortnite_Scraper-3Caa52GE",
   "language": "python",
   "name": "python3"
  },
  "language_info": {
   "codemirror_mode": {
    "name": "ipython",
    "version": 3
   },
   "file_extension": ".py",
   "mimetype": "text/x-python",
   "name": "python",
   "nbconvert_exporter": "python",
   "pygments_lexer": "ipython3",
   "version": "3.12.2"
  }
 },
 "nbformat": 4,
 "nbformat_minor": 2
}
